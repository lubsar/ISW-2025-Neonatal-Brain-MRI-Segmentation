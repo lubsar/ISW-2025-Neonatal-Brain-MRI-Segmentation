{
 "cells": [
  {
   "cell_type": "markdown",
   "metadata": {},
   "source": [
    "https://github.com/bowang-lab/U-Mamba\n"
   ]
  },
  {
   "cell_type": "code",
   "execution_count": null,
   "metadata": {
    "id": "bu_8F5GtrxFh"
   },
   "outputs": [],
   "source": [
    "import os\n",
    "\n",
    "# Specify your Conda installation path\n",
    "os.environ[\"CONDA_PATH\"] = \"/ssd2/pcpsolver/miniforge\"\n",
    "\n",
    "os.environ['nnUNet_raw'] = \"/ssd2/jupyter/MIA/nnunet/nnUnet_raw/\"\n",
    "os.environ['nnUNet_preprocessed'] = \"/ssd2/jupyter/MIA/nnunet/nnUnet_preprocessed_umamba/\"\n",
    "\n",
    "os.environ[\"nnUNet_results\"] = \"/ssd2/jupyter/MIA/nnunet/nnUnet_results_umamba/\"\n",
    "# os.environ[\"PATH_TO_MODEL_FILE\"] = \"/content/nnUnet_models/Task055_SegTHOR.zip\""
   ]
  },
  {
   "cell_type": "markdown",
   "metadata": {},
   "source": [
    "# iseg 2019\n"
   ]
  },
  {
   "cell_type": "code",
   "execution_count": null,
   "metadata": {},
   "outputs": [],
   "source": [
    "%%bash -s \"$CONDA_PATH\"\n",
    "source $CONDA_PATH/etc/profile.d/conda.sh\n",
    "\n",
    "conda activate umamba\n",
    "nnUNetv2_plan_and_preprocess -d 7 --verify_dataset_integrity"
   ]
  },
  {
   "cell_type": "code",
   "execution_count": null,
   "metadata": {
    "colab": {
     "background_save": true,
     "base_uri": "https://localhost:8080/"
    },
    "editable": true,
    "id": "mgfInjCAPmk6",
    "outputId": "6cb22299-be41-4f7a-a492-84cfe9f0a6a5",
    "scrolled": true,
    "slideshow": {
     "slide_type": ""
    },
    "tags": []
   },
   "outputs": [],
   "source": [
    "%%bash -s \"$CONDA_PATH\"\n",
    "source $CONDA_PATH/etc/profile.d/conda.sh\n",
    "\n",
    "conda activate umamba\n",
    "nnUNetv2_train 7 '2d' all -tr nnUNetTrainerUMambaBot > /ssd2/jupyter/MIA/nnunet/logs/umamba/0007_2d_train.log\n",
    "nnUNetv2_train 7 '2d' all -tr nnUNetTrainerUMambaEnc > /ssd2/jupyter/MIA/nnunet/logs/umamba/0007_2d_enc_train.log"
   ]
  },
  {
   "cell_type": "code",
   "execution_count": null,
   "metadata": {
    "editable": true,
    "id": "Zk4v94HLQFpm",
    "slideshow": {
     "slide_type": ""
    },
    "tags": []
   },
   "outputs": [],
   "source": [
    "%%bash -s \"$CONDA_PATH\"\n",
    "source $CONDA_PATH/etc/profile.d/conda.sh\n",
    "\n",
    "conda activate umamba\n",
    "nnUNetv2_train 7 '3d_fullres' all -tr nnUNetTrainerUMambaBot > /ssd2/jupyter/MIA/nnunet/logs/umamba/0007_3d_train.log\n",
    "nnUNetv2_train 7 '3d_fullres' all -tr nnUNetTrainerUMambaEnc > /ssd2/jupyter/MIA/nnunet/logs/umamba/0007_3d_enc_train.log"
   ]
  },
  {
   "cell_type": "code",
   "execution_count": null,
   "metadata": {
    "scrolled": true
   },
   "outputs": [],
   "source": [
    "%%bash -s \"$CONDA_PATH\"\n",
    "source $CONDA_PATH/etc/profile.d/conda.sh\n",
    "\n",
    "conda activate umamba\n",
    "\n",
    "nnUNetv2_predict -i /ssd2/jupyter/MIA/nnunet/nnUnet_raw/Dataset007_iseg2019/imagesTs -o  /ssd2/jupyter/MIA/nnunet/nnUnet_results_umamba/Dataset007_iseg2019/test_results_2d -tr nnUNetTrainerUMambaBot --disable_tta -d 7 -c \"2d\" -f all\n",
    "nnUNetv2_predict -i /ssd2/jupyter/MIA/nnunet/nnUnet_raw/Dataset007_iseg2019/imagesTs -o  /ssd2/jupyter/MIA/nnunet/nnUnet_results_umamba/Dataset007_iseg2019/test_results_2d_enc -tr nnUNetTrainerUMambaEnc --disable_tta -d 7 -c \"2d\" -f all\n",
    "\n",
    "nnUNetv2_predict -i /ssd2/jupyter/MIA/nnunet/nnUnet_raw/Dataset007_iseg2019/imagesTs -o  /ssd2/jupyter/MIA/nnunet/nnUnet_results_umamba/Dataset007_iseg2019/test_results_3d_bot -tr nnUNetTrainerUMambaBot --disable_tta -d 7 -c \"3d_fullres\" -f all"
   ]
  },
  {
   "cell_type": "markdown",
   "metadata": {},
   "source": [
    "# BONBID 2023\n"
   ]
  },
  {
   "cell_type": "code",
   "execution_count": null,
   "metadata": {
    "scrolled": true
   },
   "outputs": [],
   "source": [
    "%%bash -s \"$CONDA_PATH\"\n",
    "source $CONDA_PATH/etc/profile.d/conda.sh\n",
    "\n",
    "conda activate umamba\n",
    "\n",
    "nnUNetv2_plan_and_preprocess -d 008 --verify_dataset_integrity"
   ]
  },
  {
   "cell_type": "code",
   "execution_count": null,
   "metadata": {
    "scrolled": true
   },
   "outputs": [],
   "source": [
    "%%bash -s \"$CONDA_PATH\"\n",
    "source $CONDA_PATH/etc/profile.d/conda.sh\n",
    "\n",
    "conda activate umamba\n",
    "nnUNetv2_train 8 '2d' -tr nnUNetTrainerUMambaBot all > /ssd2/jupyter/MIA/nnunet/logs/umamba/0008_2d_train.log\n",
    "nnUNetv2_train 8 '2d' -tr nnUNetTrainerUMambaEnc all > /ssd2/jupyter/MIA/nnunet/logs/umamba/0008_2d_enc_train.log"
   ]
  },
  {
   "cell_type": "code",
   "execution_count": null,
   "metadata": {},
   "outputs": [],
   "source": [
    "%%bash -s \"$CONDA_PATH\"\n",
    "source $CONDA_PATH/etc/profile.d/conda.sh\n",
    "\n",
    "conda activate umamba\n",
    "\n",
    "nnUNetv2_train 8 '3d_fullres' -tr nnUNetTrainerUMambaBot all > /ssd2/jupyter/MIA/nnunet/logs/umamba/0008_3d_train.log\n",
    "nnUNetv2_train 8 '3d_fullres' -tr nnUNetTrainerUMambaEnc all > /ssd2/jupyter/MIA/nnunet/logs/umamba/0008_3d_train_enc.log"
   ]
  },
  {
   "cell_type": "code",
   "execution_count": null,
   "metadata": {
    "scrolled": true
   },
   "outputs": [],
   "source": [
    "%%bash -s \"$CONDA_PATH\"\n",
    "source $CONDA_PATH/etc/profile.d/conda.sh\n",
    "\n",
    "conda activate umamba\n",
    "\n",
    "nnUNetv2_predict -i /ssd2/jupyter/MIA/nnunet/nnUnet_raw/Dataset008_bonbid2023/imagesTs -o  /ssd2/jupyter/MIA/nnunet/nnUnet_results_umamba/Dataset008_bonbid2023/test_results_2d_bot -tr nnUNetTrainerUMambaBot --disable_tta -d 8 -c \"2d\" -f all\n",
    "nnUNetv2_predict -i /ssd2/jupyter/MIA/nnunet/nnUnet_raw/Dataset008_bonbid2023/imagesTs -o  /ssd2/jupyter/MIA/nnunet/nnUnet_results_umamba/Dataset008_bonbid2023/test_results_2d_enc -tr nnUNetTrainerUMambaEnc --disable_tta -d 8 -c \"2d\" -f all\n",
    "\n",
    "nnUNetv2_predict -i /ssd2/jupyter/MIA/nnunet/nnUnet_raw/Dataset008_bonbid2023/imagesTs -o  /ssd2/jupyter/MIA/nnunet/nnUnet_results_umamba/Dataset008_bonbid2023/test_results_3d_bot -tr nnUNetTrainerUMambaBot --disable_tta -d 8 -c \"3d_fullres\" -f all\n",
    "nnUNetv2_predict -i /ssd2/jupyter/MIA/nnunet/nnUnet_raw/Dataset008_bonbid2023/imagesTs -o  /ssd2/jupyter/MIA/nnunet/nnUnet_results_umamba/Dataset008_bonbid2023/test_results_3d_enc -tr nnUNetTrainerUMambaEnc --disable_tta -d 8 -c \"3d_fullres\" -f all"
   ]
  },
  {
   "cell_type": "markdown",
   "metadata": {},
   "source": [
    "# TACR-HIE aseg\n"
   ]
  },
  {
   "cell_type": "code",
   "execution_count": null,
   "metadata": {
    "scrolled": true
   },
   "outputs": [],
   "source": [
    "%%bash -s \"$CONDA_PATH\"\n",
    "source $CONDA_PATH/etc/profile.d/conda.sh\n",
    "\n",
    "conda activate umamba\n",
    "\n",
    "nnUNetv2_plan_and_preprocess -d 011 --verify_dataset_integrity"
   ]
  },
  {
   "cell_type": "code",
   "execution_count": null,
   "metadata": {
    "scrolled": true
   },
   "outputs": [],
   "source": [
    "%%bash -s \"$CONDA_PATH\"\n",
    "source $CONDA_PATH/etc/profile.d/conda.sh\n",
    "\n",
    "conda activate umamba\n",
    "nnUNetv2_train 11 '2d' -tr nnUNetTrainerUMambaBot all > /ssd2/jupyter/MIA/nnunet/logs/umamba/0011_2d_train.log"
   ]
  },
  {
   "cell_type": "code",
   "execution_count": null,
   "metadata": {
    "collapsed": true,
    "jupyter": {
     "outputs_hidden": true
    }
   },
   "outputs": [],
   "source": [
    "%%bash -s \"$CONDA_PATH\"\n",
    "source $CONDA_PATH/etc/profile.d/conda.sh\n",
    "\n",
    "conda activate umamba\n",
    "\n",
    "nnUNetv2_train 11 '3d_fullres' -tr nnUNetTrainerUMambaBot all > /ssd2/jupyter/MIA/nnunet/logs/umamba/0011_3d_train.log"
   ]
  },
  {
   "cell_type": "code",
   "execution_count": null,
   "metadata": {
    "collapsed": true,
    "jupyter": {
     "outputs_hidden": true
    },
    "scrolled": true
   },
   "outputs": [],
   "source": [
    "%%bash -s \"$CONDA_PATH\"\n",
    "source $CONDA_PATH/etc/profile.d/conda.sh\n",
    "\n",
    "conda activate umamba\n",
    "\n",
    "nnUNetv2_predict -i /ssd2/jupyter/MIA/nnunet/nnUnet_raw/Dataset011_tacr6HIEaseg/imagesTs -o  /ssd2/jupyter/MIA/nnunet/nnUnet_results_umamba/Dataset011_tacr6HIEaseg/test_results_2d_bot -tr nnUNetTrainerUMambaBot --disable_tta -d 8 -c \"2d\" -f all\n",
    "nnUNetv2_predict -i /ssd2/jupyter/MIA/nnunet/nnUnet_raw/Dataset011_tacr6HIEaseg/imagesTs -o  /ssd2/jupyter/MIA/nnunet/nnUnet_results_umamba/Dataset011_tacr6HIEaseg/test_results_3d_bot -tr nnUNetTrainerUMambaBot --disable_tta -d 8 -c \"3d_fullres\" -f all"
   ]
  },
  {
   "cell_type": "markdown",
   "metadata": {},
   "source": [
    "# TACR-HIE aseg aparc\n"
   ]
  },
  {
   "cell_type": "code",
   "execution_count": null,
   "metadata": {
    "scrolled": true
   },
   "outputs": [],
   "source": [
    "%%bash -s \"$CONDA_PATH\"\n",
    "source $CONDA_PATH/etc/profile.d/conda.sh\n",
    "\n",
    "conda activate umamba\n",
    "\n",
    "nnUNetv2_plan_and_preprocess -d 012 --verify_dataset_integrity"
   ]
  },
  {
   "cell_type": "code",
   "execution_count": null,
   "metadata": {
    "scrolled": true
   },
   "outputs": [],
   "source": [
    "%%bash -s \"$CONDA_PATH\"\n",
    "source $CONDA_PATH/etc/profile.d/conda.sh\n",
    "\n",
    "conda activate umamba\n",
    "nnUNetv2_train 12 '2d' -tr nnUNetTrainerUMambaBot all > /ssd2/jupyter/MIA/nnunet/logs/umamba/0012_2d_train.log"
   ]
  },
  {
   "cell_type": "code",
   "execution_count": null,
   "metadata": {
    "collapsed": true,
    "jupyter": {
     "outputs_hidden": true
    }
   },
   "outputs": [],
   "source": [
    "%%bash -s \"$CONDA_PATH\"\n",
    "source $CONDA_PATH/etc/profile.d/conda.sh\n",
    "\n",
    "conda activate umamba\n",
    "\n",
    "nnUNetv2_train 12 '3d_fullres' -tr nnUNetTrainerUMambaBot all > /ssd2/jupyter/MIA/nnunet/logs/umamba/0012_3d_train.log"
   ]
  },
  {
   "cell_type": "code",
   "execution_count": null,
   "metadata": {
    "collapsed": true,
    "jupyter": {
     "outputs_hidden": true
    },
    "scrolled": true
   },
   "outputs": [],
   "source": [
    "%%bash -s \"$CONDA_PATH\"\n",
    "source $CONDA_PATH/etc/profile.d/conda.sh\n",
    "\n",
    "conda activate umamba\n",
    "\n",
    "nnUNetv2_predict -i /ssd2/jupyter/MIA/nnunet/nnUnet_raw/Dataset012_tacr6HIEapacraseg/imagesTs -o  /ssd2/jupyter/MIA/nnunet/nnUnet_results_umamba/Dataset012_tacr6HIEapacraseg/test_results_2d_bot -tr nnUNetTrainerUMambaBot --disable_tta -d 8 -c \"2d\" -f all\n",
    "nnUNetv2_predict -i /ssd2/jupyter/MIA/nnunet/nnUnet_raw/Dataset012_tacr6HIEapacraseg/imagesTs -o  /ssd2/jupyter/MIA/nnunet/nnUnet_results_umamba/Dataset012_tacr6HIEapacraseg/test_results_3d_bot -tr nnUNetTrainerUMambaBot --disable_tta -d 8 -c \"3d_fullres\" -f all"
   ]
  }
 ],
 "metadata": {
  "accelerator": "GPU",
  "colab": {
   "gpuType": "V100",
   "provenance": []
  },
  "kernelspec": {
   "display_name": "Python 3 (UMamba)",
   "language": "python",
   "name": "umamba2"
  },
  "language_info": {
   "codemirror_mode": {
    "name": "ipython",
    "version": 3
   },
   "file_extension": ".py",
   "mimetype": "text/x-python",
   "name": "python",
   "nbconvert_exporter": "python",
   "pygments_lexer": "ipython3",
   "version": "3.10.15"
  }
 },
 "nbformat": 4,
 "nbformat_minor": 4
}
