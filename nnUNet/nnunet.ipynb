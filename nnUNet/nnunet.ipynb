{
 "cells": [
  {
   "cell_type": "code",
   "execution_count": null,
   "metadata": {
    "colab": {
     "base_uri": "https://localhost:8080/",
     "height": 1000
    },
    "id": "ryA2wXTomLV1",
    "outputId": "e8fb4273-16ce-40b7-abe2-3a0fb599205a"
   },
   "outputs": [],
   "source": [
    "!pip install nnunetv2"
   ]
  },
  {
   "cell_type": "code",
   "execution_count": null,
   "metadata": {
    "colab": {
     "base_uri": "https://localhost:8080/"
    },
    "id": "tL9FfsIZrgzL",
    "outputId": "61027ca3-fd17-49a4-a303-a58113346a17"
   },
   "outputs": [],
   "source": [
    "!pip install --upgrade git+https://github.com/FabianIsensee/hiddenlayer.git"
   ]
  },
  {
   "cell_type": "code",
   "execution_count": null,
   "metadata": {
    "id": "bu_8F5GtrxFh"
   },
   "outputs": [],
   "source": [
    "import os\n",
    "os.environ['nnUNet_raw'] = \"/ssd2/jupyter/MIA/nnunet/nnUnet_raw\"\n",
    "os.environ['nnUNet_preprocessed'] = \"/ssd2/jupyter/MIA/nnunet/nnUnet_preprocessed/\"\n",
    "\n",
    "os.environ[\"nnUNet_results\"] = \"/ssd2/jupyter/MIA/nnunet/nnUnet_results/\"\n",
    "os.environ[\"nnUNet_compile\"] = \"False\"\n",
    "# os.environ[\"PATH_TO_MODEL_FILE\"] = \"/content/nnUnet_models/Task055_SegTHOR.zip\""
   ]
  },
  {
   "cell_type": "markdown",
   "metadata": {},
   "source": [
    "# iseg 2019\n"
   ]
  },
  {
   "cell_type": "code",
   "execution_count": null,
   "metadata": {
    "colab": {
     "base_uri": "https://localhost:8080/"
    },
    "id": "SRWNZyniHMff",
    "outputId": "af9f794f-5fa1-46df-a296-d5cb9ac93a2c",
    "scrolled": true
   },
   "outputs": [],
   "source": [
    "!nnUNetv2_plan_and_preprocess -d 007 --verify_dataset_integrity"
   ]
  },
  {
   "cell_type": "code",
   "execution_count": null,
   "metadata": {
    "colab": {
     "background_save": true,
     "base_uri": "https://localhost:8080/"
    },
    "id": "mgfInjCAPmk6",
    "outputId": "6cb22299-be41-4f7a-a492-84cfe9f0a6a5",
    "scrolled": true
   },
   "outputs": [],
   "source": [
    "!nnUNetv2_train 7 '2d' all > /ssd2/jupyter/MIA/nnunet/logs/0007_2d_train.logc"
   ]
  },
  {
   "cell_type": "code",
   "execution_count": null,
   "metadata": {
    "id": "Zk4v94HLQFpm"
   },
   "outputs": [],
   "source": [
    " !nnUNetv2_train 7 '3d_fullres' all > /ssd2/jupyter/MIA/nnunet/logs/0007_3d_train.log"
   ]
  },
  {
   "cell_type": "code",
   "execution_count": null,
   "metadata": {},
   "outputs": [],
   "source": [
    "!nnUNetv2_predict -i /ssd2/jupyter/MIA/nnunet/nnUnet_raw/Dataset007_iseg2019/imagesTs -o  /ssd2/jupyter/MIA/nnunet/nnUnet_results/Dataset007_iseg2019/test_results_2d -d 1 -c \"2d\" -f all\n",
    "!nnUNetv2_predict -i /ssd2/jupyter/MIA/nnunet/nnUnet_raw/Dataset007_iseg2019/imagesTs -o  /ssd2/jupyter/MIA/nnunet/nnUnet_results/Dataset007_iseg2019/test_results_3d -d 1 -c \"3d_fullres\" -f all"
   ]
  },
  {
   "cell_type": "markdown",
   "metadata": {},
   "source": [
    "# BONBID 2023\n"
   ]
  },
  {
   "cell_type": "code",
   "execution_count": null,
   "metadata": {},
   "outputs": [],
   "source": []
  },
  {
   "cell_type": "code",
   "execution_count": null,
   "metadata": {},
   "outputs": [],
   "source": [
    "!nnUNetv2_plan_and_preprocess -d 008 --verify_dataset_integrity"
   ]
  },
  {
   "cell_type": "code",
   "execution_count": null,
   "metadata": {},
   "outputs": [],
   "source": [
    "!nnUNetv2_plot_overlay_pngs -d 2 -channel_idx 0 -o /ssd2/jupyter/MIA/nnunet/logs/bonbid_overlap_0\n",
    "!nnUNetv2_plot_overlay_pngs -d 2 -channel_idx 1 -o /ssd2/jupyter/MIA/nnunet/logs/bonbid_overlap_1"
   ]
  },
  {
   "cell_type": "code",
   "execution_count": null,
   "metadata": {},
   "outputs": [],
   "source": [
    "!nnUNetv2_plot_overlay_pngs -h"
   ]
  },
  {
   "cell_type": "code",
   "execution_count": null,
   "metadata": {},
   "outputs": [],
   "source": [
    "!nnUNetv2_train 8 '2d' all > /ssd2/jupyter/MIA/nnunet/logs/0008_2d_train.log"
   ]
  },
  {
   "cell_type": "code",
   "execution_count": null,
   "metadata": {},
   "outputs": [],
   "source": [
    "!nnUNetv2_train 8 '3d_fullres' all > /ssd2/jupyter/MIA/nnunet/logs/0008_3d_train.log"
   ]
  },
  {
   "cell_type": "code",
   "execution_count": null,
   "metadata": {
    "scrolled": true
   },
   "outputs": [],
   "source": [
    "!nnUNetv2_train 2 '2d' all --val --npz\n",
    "!nnUNetv2_train 2 '3d_fullres' all --val --npz"
   ]
  },
  {
   "cell_type": "code",
   "execution_count": null,
   "metadata": {},
   "outputs": [],
   "source": [
    "!nnUNetv2_predict -i /ssd2/jupyter/MIA/nnunet/nnUnet_raw/Dataset008_bonbid2023/imagesTs -o  /ssd2/jupyter/MIA/nnunet/nnUnet_results/Dataset008_bonbid2023/test_results_2d -d 8 -c \"2d\" -f all\n",
    "!nnUNetv2_predict -i /ssd2/jupyter/MIA/nnunet/nnUnet_raw/Dataset008_bonbid2023/imagesTs -o  /ssd2/jupyter/MIA/nnunet/nnUnet_results/Dataset008_bonbid2023/test_results_3d -d 8 -c \"3d_fullres\" -f all"
   ]
  },
  {
   "cell_type": "markdown",
   "metadata": {},
   "source": [
    "# TACR HIE aseg\n"
   ]
  },
  {
   "cell_type": "markdown",
   "metadata": {},
   "source": []
  },
  {
   "cell_type": "code",
   "execution_count": null,
   "metadata": {
    "scrolled": true
   },
   "outputs": [],
   "source": [
    "!nnUNetv2_plan_and_preprocess -d 011 --verify_dataset_integrity"
   ]
  },
  {
   "cell_type": "code",
   "execution_count": null,
   "metadata": {},
   "outputs": [],
   "source": [
    "!nnUNetv2_train 11 '2d' all > /ssd2/jupyter/MIA/nnunet/logs/0011_2d_train.log\n"
   ]
  },
  {
   "cell_type": "code",
   "execution_count": null,
   "metadata": {},
   "outputs": [],
   "source": [
    "!nnUNetv2_train 11 '3d_fullres' all > /ssd2/jupyter/MIA/nnunet/logs/0011_3d_train.log "
   ]
  },
  {
   "cell_type": "code",
   "execution_count": null,
   "metadata": {},
   "outputs": [],
   "source": [
    "!nnUNetv2_predict -i /ssd2/jupyter/MIA/nnunet/nnUnet_raw/Dataset011_tacr6HIEaseg/imagesTs -o  /ssd2/jupyter/MIA/nnunet/nnUnet_results/Dataset011_tacr6HIEaseg/test_results_2d -d 11 -c \"2d\" -f all\n",
    "!nnUNetv2_predict -i /ssd2/jupyter/MIA/nnunet/nnUnet_raw/Dataset011_tacr6HIEaseg/imagesTs -o  /ssd2/jupyter/MIA/nnunet/nnUnet_results/Dataset011_tacr6HIEaseg/test_results_3d -d 11 -c \"3d_fullres\" -f all"
   ]
  },
  {
   "cell_type": "markdown",
   "metadata": {},
   "source": [
    "# TACR HIE aseg+aparc\n"
   ]
  },
  {
   "cell_type": "markdown",
   "metadata": {},
   "source": []
  },
  {
   "cell_type": "code",
   "execution_count": null,
   "metadata": {
    "scrolled": true
   },
   "outputs": [],
   "source": [
    "!nnUNetv2_plan_and_preprocess -d 012 --verify_dataset_integrity"
   ]
  },
  {
   "cell_type": "code",
   "execution_count": null,
   "metadata": {
    "scrolled": true
   },
   "outputs": [],
   "source": [
    "!nnUNetv2_train 12 '2d' all --c > /ssd2/jupyter/MIA/nnunet/logs/0012_2d_train2.log\n"
   ]
  },
  {
   "cell_type": "code",
   "execution_count": null,
   "metadata": {},
   "outputs": [],
   "source": [
    "!nnUNetv2_train 12 '3d_fullres' all > /ssd2/jupyter/MIA/nnunet/logs/0012_3d_train.log "
   ]
  },
  {
   "cell_type": "code",
   "execution_count": null,
   "metadata": {},
   "outputs": [],
   "source": [
    "!nnUNetv2_predict -i /ssd2/jupyter/MIA/nnunet/nnUnet_raw/Dataset012_tacr6HIEapacraseg/imagesTs -o  /ssd2/jupyter/MIA/nnunet/nnUnet_results/Dataset012_tacr6HIEapacraseg/test_results_2d -d 12 -c \"2d\" -f all\n",
    "!nnUNetv2_predict -i /ssd2/jupyter/MIA/nnunet/nnUnet_raw/Dataset012_tacr6HIEapacraseg/imagesTs -o  /ssd2/jupyter/MIA/nnunet/nnUnet_results/Dataset012_tacr6HIEapacraseg/test_results_3d -d 12 -c \"3d_fullres\" -f all"
   ]
  }
 ],
 "metadata": {
  "accelerator": "GPU",
  "colab": {
   "gpuType": "V100",
   "provenance": []
  },
  "kernelspec": {
   "display_name": "Python 3 (ipykernel)",
   "language": "python",
   "name": "python3"
  },
  "language_info": {
   "codemirror_mode": {
    "name": "ipython",
    "version": 3
   },
   "file_extension": ".py",
   "mimetype": "text/x-python",
   "name": "python",
   "nbconvert_exporter": "python",
   "pygments_lexer": "ipython3",
   "version": "3.10.12"
  }
 },
 "nbformat": 4,
 "nbformat_minor": 4
}
